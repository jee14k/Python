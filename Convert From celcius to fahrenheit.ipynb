{
 "cells": [
  {
   "cell_type": "code",
   "execution_count": 1,
   "metadata": {},
   "outputs": [
    {
     "name": "stdout",
     "output_type": "stream",
     "text": [
      "1. Convert from Celcius to Fahrenheit\n",
      "2. Convert from Fahrenheit to Celcius\n",
      "What conversion would you like to?: 1\n",
      "Enter the value in Celcius: 1\n",
      "The value in Fahrenheit is: 33.8\n"
     ]
    }
   ],
   "source": [
    "def menu():\n",
    "    print(\"1. Convert from Celcius to Fahrenheit\")\n",
    "    print(\"2. Convert from Fahrenheit to Celcius\")\n",
    "    \n",
    "def cel():\n",
    "    F = float(input(\"Enter the value in Fahrenheit: \"))\n",
    "    C = (F-32)*5/9\n",
    "    print(\"The value in celcius is: {0}\".format(C))\n",
    "    \n",
    "def far():\n",
    "    C = float(input(\"Enter the value in Celcius: \"))\n",
    "    F = (9*C/5) + 32\n",
    "    print(\"The value in Fahrenheit is: {0}\".format(F))\n",
    "    \n",
    "menu()\n",
    "choice = input('What conversion would you like to?: ')\n",
    "if(choice=='1'):\n",
    "    far()\n",
    "if(choice=='2'):\n",
    "    cel()"
   ]
  },
  {
   "cell_type": "code",
   "execution_count": null,
   "metadata": {
    "collapsed": true
   },
   "outputs": [],
   "source": []
  }
 ],
 "metadata": {
  "kernelspec": {
   "display_name": "Python 3",
   "language": "python",
   "name": "python3"
  },
  "language_info": {
   "codemirror_mode": {
    "name": "ipython",
    "version": 3
   },
   "file_extension": ".py",
   "mimetype": "text/x-python",
   "name": "python",
   "nbconvert_exporter": "python",
   "pygments_lexer": "ipython3",
   "version": "3.6.1"
  }
 },
 "nbformat": 4,
 "nbformat_minor": 2
}
