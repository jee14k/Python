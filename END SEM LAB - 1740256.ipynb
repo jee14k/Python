{
 "cells": [
  {
   "cell_type": "code",
   "execution_count": 9,
   "metadata": {},
   "outputs": [
    {
     "name": "stdout",
     "output_type": "stream",
     "text": [
      "Program to find series for 10 terms\n",
      "                        2\n",
      "2057483        6246026⋅x \n",
      "──────── + x + ──────────\n",
      "14549535        14549535 \n",
      "56140657/14549535\n",
      "3.8585877143152687\n"
     ]
    }
   ],
   "source": [
    "from sympy import Symbol,pprint,init_printing\n",
    "def func(n):\n",
    "    init_printing(order='rev-lex')\n",
    "    x=Symbol('x')\n",
    "    series=x\n",
    "    for i in range(2,n+1):\n",
    "        series=series+(((-1)**i)*(x**2*i+1))/(2*i+1)\n",
    "    pprint(series)\n",
    "    new_series=series.subs({x:2,n:10})\n",
    "    print(new_series)\n",
    "    print(float(new_series))\n",
    "    \n",
    "if __name__=='__main__':\n",
    "    print('Program to find series for 10 terms')\n",
    "    n=10\n",
    "    func(int(n))"
   ]
  },
  {
   "cell_type": "code",
   "execution_count": null,
   "metadata": {
    "collapsed": true
   },
   "outputs": [],
   "source": []
  }
 ],
 "metadata": {
  "kernelspec": {
   "display_name": "Python 3",
   "language": "python",
   "name": "python3"
  },
  "language_info": {
   "codemirror_mode": {
    "name": "ipython",
    "version": 3
   },
   "file_extension": ".py",
   "mimetype": "text/x-python",
   "name": "python",
   "nbconvert_exporter": "python",
   "pygments_lexer": "ipython3",
   "version": "3.6.1"
  }
 },
 "nbformat": 4,
 "nbformat_minor": 2
}
