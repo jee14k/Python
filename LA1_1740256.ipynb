{
 "cells": [
  {
   "cell_type": "markdown",
   "metadata": {},
   "source": [
    "# 1. Import iris.csv file and plot the species \"Iris-versicolor\" and \"Iris-virginica\" 2. Create two 4x4 matrices and add them.                                                                   3. Write programs to demonstrate the dot and cross products.                               4. Create a 3x2 matrix and print the sum of its elements using for loops.               5. Create a 2x3 matrix and fill it with random numbers.                                             6. Write a python program to multiply two matrices.                                                 7. Using Matrix inversion, solve the following system of equation\n",
    "4x1 􀀀 2x2 + x3 = 11\n",
    "􀀀2x1 + 4x2 􀀀 2x3 = 􀀀16\n",
    "x1 􀀀 2x2 + 4x3 = 17 .  "
   ]
  },
  {
   "cell_type": "code",
   "execution_count": 2,
   "metadata": {},
   "outputs": [
    {
     "data": {
      "text/plain": [
       "pandas.core.frame.DataFrame"
      ]
     },
     "execution_count": 2,
     "metadata": {},
     "output_type": "execute_result"
    }
   ],
   "source": [
    "import random\n",
    "import pandas as pd\n",
    "import numpy as np\n",
    "import matplotlib.pyplot as plt\n",
    "df=pd.read_csv(\"iris.csv\",sep=\",\")\n",
    "type(df)"
   ]
  },
  {
   "cell_type": "code",
   "execution_count": 2,
   "metadata": {
    "collapsed": true
   },
   "outputs": [],
   "source": [
    "sepleniris=df[df.Species==\"Iris-versicolor\"][\"SepalLength\"]\n",
    "sepwidiris=df[df.Species==\"Iris-versicolor\"][\"SepalWidth\"]\n",
    "petleniris=df[df.Species==\"Iris-versicolor\"][\"PetalLength\"]\n",
    "petwidiris=df[df.Species==\"Iris-versicolor\"][\"PetalWidth\"]"
   ]
  },
  {
   "cell_type": "code",
   "execution_count": 3,
   "metadata": {},
   "outputs": [
    {
     "data": {
      "text/plain": [
       "<matplotlib.legend.Legend at 0x2110f45f2b0>"
      ]
     },
     "execution_count": 3,
     "metadata": {},
     "output_type": "execute_result"
    }
   ],
   "source": [
    "plt.plot(sepleniris,\"b*\")\n",
    "plt.legend([\"sepleniris\"])\n",
    "plt.plot(sepwidiris,\"g*\")\n",
    "plt.legend([\"sepwidiris\"])\n",
    "plt.plot(petleniris,\"r*\")\n",
    "plt.legend([\"petleniris\"])\n",
    "plt.plot(petwidiris,\"y*\")\n",
    "plt.legend([\"petwidiris\"])\n",
    "plt.legend(bbox_to_anchor=(1.05,1),loc=2,borderaxespad=0)"
   ]
  },
  {
   "cell_type": "code",
   "execution_count": 4,
   "metadata": {},
   "outputs": [
    {
     "data": {
      "image/png": "[encoded data removed]",
      "text/plain": [
       "<matplotlib.figure.Figure at 0x2110f0395f8>"
      ]
     },
     "metadata": {},
     "output_type": "display_data"
    }
   ],
   "source": [
    "plt.show()"
   ]
  },
  {
   "cell_type": "code",
   "execution_count": 5,
   "metadata": {
    "collapsed": true
   },
   "outputs": [],
   "source": [
    "sepleniris=df[df.Species==\"Iris-virginica\"][\"SepalLength\"]\n",
    "sepwidiris=df[df.Species==\"Iris-virginica\"][\"SepalWidth\"]\n",
    "petleniris=df[df.Species==\"Iris-virginica\"][\"PetalLength\"]\n",
    "petwidiris=df[df.Species==\"Iris-virginica\"][\"PetalWidth\"]"
   ]
  },
  {
   "cell_type": "code",
   "execution_count": 6,
   "metadata": {},
   "outputs": [
    {
     "data": {
      "text/plain": [
       "<matplotlib.legend.Legend at 0x2110f56ac50>"
      ]
     },
     "execution_count": 6,
     "metadata": {},
     "output_type": "execute_result"
    }
   ],
   "source": [
    "plt.plot(sepleniris,\"b*\")\n",
    "plt.legend([\"sepleniris\"])\n",
    "plt.plot(sepwidiris,\"g*\")\n",
    "plt.legend([\"sepwidiris\"])\n",
    "plt.plot(petleniris,\"r*\")\n",
    "plt.legend([\"petleniris\"])\n",
    "plt.plot(petwidiris,\"y*\")\n",
    "plt.legend([\"petwidiris\"])\n",
    "plt.legend(bbox_to_anchor=(1.05,1),loc=2,borderaxespad=0)"
   ]
  },
  {
   "cell_type": "code",
   "execution_count": 7,
   "metadata": {},
   "outputs": [
    {
     "data": {
      "image/png": "[encoded data removed]",
      "text/plain": [
       "<matplotlib.figure.Figure at 0x2110f45f6a0>"
      ]
     },
     "metadata": {},
     "output_type": "display_data"
    }
   ],
   "source": [
    "plt.show()"
   ]
  },
  {
   "cell_type": "code",
   "execution_count": 9,
   "metadata": {},
   "outputs": [
    {
     "data": {
      "text/plain": [
       "array([[1, 2],\n",
       "       [4, 5]])"
      ]
     },
     "execution_count": 9,
     "metadata": {},
     "output_type": "execute_result"
    }
   ],
   "source": [
    "x=np.array([[1,2],[4,5]])\n",
    "y=np.array([[1,3],[5,6]])\n",
    "x"
   ]
  },
  {
   "cell_type": "code",
   "execution_count": 6,
   "metadata": {},
   "outputs": [
    {
     "data": {
      "text/plain": [
       "array([[1, 5, 6, 7],\n",
       "       [8, 9, 1, 0],\n",
       "       [2, 3, 4, 5],\n",
       "       [4, 5, 2, 3]])"
      ]
     },
     "execution_count": 6,
     "metadata": {},
     "output_type": "execute_result"
    }
   ],
   "source": [
    "A=np.array([[1,5,6,7],[8,9,1,0],[2,3,4,5],[4,5,2,3]])\n",
    "B=np.array([[1,2,3,4],[5,6,7,8],[9,10,11,12],[13,14,15,16]])\n",
    "A"
   ]
  },
  {
   "cell_type": "code",
   "execution_count": 7,
   "metadata": {},
   "outputs": [
    {
     "data": {
      "text/plain": [
       "array([[ 1,  2,  3,  4],\n",
       "       [ 5,  6,  7,  8],\n",
       "       [ 9, 10, 11, 12],\n",
       "       [13, 14, 15, 16]])"
      ]
     },
     "execution_count": 7,
     "metadata": {},
     "output_type": "execute_result"
    }
   ],
   "source": [
    "B"
   ]
  },
  {
   "cell_type": "code",
   "execution_count": 8,
   "metadata": {},
   "outputs": [
    {
     "name": "stdout",
     "output_type": "stream",
     "text": [
      "[[ 2  7  9 11]\n",
      " [13 15  8  8]\n",
      " [11 13 15 17]\n",
      " [17 19 17 19]]\n"
     ]
    }
   ],
   "source": [
    "print(np.add(A,B))"
   ]
  },
  {
   "cell_type": "code",
   "execution_count": 9,
   "metadata": {},
   "outputs": [
    {
     "data": {
      "text/plain": [
       "array([[ 2,  4],\n",
       "       [ 6,  8],\n",
       "       [10, 12]])"
      ]
     },
     "execution_count": 9,
     "metadata": {},
     "output_type": "execute_result"
    }
   ],
   "source": [
    "D=np.array([[2,4],[6,8],[10,12]])\n",
    "D"
   ]
  },
  {
   "cell_type": "code",
   "execution_count": 17,
   "metadata": {
    "collapsed": true
   },
   "outputs": [],
   "source": [
    "E=np.random.rand(2,3)"
   ]
  },
  {
   "cell_type": "code",
   "execution_count": 18,
   "metadata": {},
   "outputs": [
    {
     "data": {
      "text/plain": [
       "array([[ 0.58317298,  0.33877062,  0.41111488],\n",
       "       [ 0.34777596,  0.07183252,  0.89929276]])"
      ]
     },
     "execution_count": 18,
     "metadata": {},
     "output_type": "execute_result"
    }
   ],
   "source": [
    "E"
   ]
  },
  {
   "cell_type": "code",
   "execution_count": 19,
   "metadata": {},
   "outputs": [
    {
     "name": "stdout",
     "output_type": "stream",
     "text": [
      "[[22 29]\n",
      " [70 92]]\n"
     ]
    }
   ],
   "source": [
    "A=([[1,3],[4,9]])\n",
    "B=([[4,5],[6,8]])\n",
    "A_B=np.dot(A,B)\n",
    "print(A_B)"
   ]
  },
  {
   "cell_type": "code",
   "execution_count": 3,
   "metadata": {},
   "outputs": [
    {
     "name": "stdout",
     "output_type": "stream",
     "text": [
      "The 1st matrix is: \n",
      "[[1 2]\n",
      " [3 4]\n",
      " [5 6]]\n",
      "\n",
      "\n",
      "The 2nd matrix is: \n",
      "[[9 8]\n",
      " [7 6]\n",
      " [5 4]]\n",
      "\n",
      "\n",
      "The sum of the elements using for loop is: \n",
      "[10 10]\n",
      "[10 10]\n",
      "[10 10]\n",
      "[0 0]\n"
     ]
    }
   ],
   "source": [
    "x=np.array([[1,2],[3,4],[5,6]])\n",
    "print(\"The 1st matrix is: \")\n",
    "print(x)\n",
    "print(\"\\n\")\n",
    "y=np.array([[9,8],[7,6],[5,4]])\n",
    "print(\"The 2nd matrix is: \")\n",
    "print(y)\n",
    "print(\"\\n\")\n",
    "result=np.array([[0,0],[0,0],[0,0],[0,0]])\n",
    "for i in range(len(x)):\n",
    "    for j in range(len(x[0])):\n",
    "        result[i][j]=x[i][j]+y[i][j]\n",
    "print(\"The sum of the elements using for loop is: \")\n",
    "for r in result:\n",
    "    print(r)"
   ]
  },
  {
   "cell_type": "code",
   "execution_count": 23,
   "metadata": {},
   "outputs": [
    {
     "data": {
      "text/plain": [
       "array([[ 4, -2,  1],\n",
       "       [-2,  4, -2],\n",
       "       [ 1, -2,  4]])"
      ]
     },
     "execution_count": 23,
     "metadata": {},
     "output_type": "execute_result"
    }
   ],
   "source": [
    "F=np.array([[4,-2,1],[-2,4,-2],[1,-2,4]])\n",
    "F"
   ]
  },
  {
   "cell_type": "code",
   "execution_count": 25,
   "metadata": {},
   "outputs": [
    {
     "data": {
      "text/plain": [
       "array([[ 0.33333333,  0.16666667,  0.        ],\n",
       "       [ 0.16666667,  0.41666667,  0.16666667],\n",
       "       [ 0.        ,  0.16666667,  0.33333333]])"
      ]
     },
     "execution_count": 25,
     "metadata": {},
     "output_type": "execute_result"
    }
   ],
   "source": [
    "G=np.linalg.inv(F)\n",
    "G"
   ]
  }
 ],
 "metadata": {
  "kernelspec": {
   "display_name": "Python 3",
   "language": "python",
   "name": "python3"
  },
  "language_info": {
   "codemirror_mode": {
    "name": "ipython",
    "version": 3
   },
   "file_extension": ".py",
   "mimetype": "text/x-python",
   "name": "python",
   "nbconvert_exporter": "python",
   "pygments_lexer": "ipython3",
   "version": "3.6.1"
  }
 },
 "nbformat": 4,
 "nbformat_minor": 2
}
