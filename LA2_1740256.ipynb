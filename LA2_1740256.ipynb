{
 "cells": [
  {
   "cell_type": "markdown",
   "metadata": {},
   "source": [
    "# 1. Find the inverse of the following matrix M.                                                        2. Find the determinant and the eigen values of the above matrix.                         3. Using Matrix inversion, solve the following system of equations                         4. Plot x^2 + y^2 = 25                                                                                                     5. Plot z = sin x + sin y using imshow from -4pi to 4pi for both x and y.   "
   ]
  },
  {
   "cell_type": "code",
   "execution_count": 3,
   "metadata": {},
   "outputs": [
    {
     "data": {
      "text/plain": [
       "array([[ 1,  4,  4,  1],\n",
       "       [ 0,  1, -2,  2],\n",
       "       [ 3,  3,  1,  4],\n",
       "       [ 0,  1, -3, -2]])"
      ]
     },
     "execution_count": 3,
     "metadata": {},
     "output_type": "execute_result"
    }
   ],
   "source": [
    "import numpy as np\n",
    "A=np.array([[1,4,4,1],[0,1,-2,2],[3,3,1,4],[0,1,-3,-2]])\n",
    "A"
   ]
  },
  {
   "cell_type": "code",
   "execution_count": 5,
   "metadata": {},
   "outputs": [
    {
     "data": {
      "text/plain": [
       "array([[-0.22222222, -0.51851852,  0.40740741,  0.18518519],\n",
       "       [ 0.22222222,  0.18518519, -0.07407407,  0.14814815],\n",
       "       [ 0.08888889, -0.12592593, -0.02962963, -0.14074074],\n",
       "       [-0.02222222,  0.28148148,  0.00740741, -0.21481481]])"
      ]
     },
     "execution_count": 5,
     "metadata": {},
     "output_type": "execute_result"
    }
   ],
   "source": [
    "A_inv = np.linalg.inv(A)\n",
    "A_inv"
   ]
  },
  {
   "cell_type": "code",
   "execution_count": 6,
   "metadata": {},
   "outputs": [
    {
     "data": {
      "text/plain": [
       "135.00000000000003"
      ]
     },
     "execution_count": 6,
     "metadata": {},
     "output_type": "execute_result"
    }
   ],
   "source": [
    "A_det = np.linalg.det(A)\n",
    "A_det"
   ]
  },
  {
   "cell_type": "code",
   "execution_count": 7,
   "metadata": {},
   "outputs": [
    {
     "name": "stdout",
     "output_type": "stream",
     "text": [
      "[ 2.731601+3.2150887j   2.731601-3.2150887j  -2.231601+1.61396767j\n",
      " -2.231601-1.61396767j]\n"
     ]
    }
   ],
   "source": [
    "E=np.matrix([[1,4,4,1],[0,1,-2,2],[3,3,1,4],[0,1,-3,-2]])\n",
    "eigvals=np.linalg.eigvals(E)\n",
    "print(eigvals)"
   ]
  },
  {
   "cell_type": "code",
   "execution_count": 9,
   "metadata": {},
   "outputs": [
    {
     "data": {
      "text/plain": [
       "array([[ 0.4, -0.2,  0.2],\n",
       "       [-1.8,  3.4, -1.4],\n",
       "       [-1. ,  2. , -1. ]])"
      ]
     },
     "execution_count": 9,
     "metadata": {},
     "output_type": "execute_result"
    }
   ],
   "source": [
    "F=np.array([[3,-1,2],[2,1,-1],[1,3,-5]])\n",
    "F_inv=np.linalg.inv(F)\n",
    "F_inv"
   ]
  },
  {
   "cell_type": "code",
   "execution_count": 11,
   "metadata": {},
   "outputs": [
    {
     "ename": "SyntaxError",
     "evalue": "keyword can't be an expression (<ipython-input-11-dc02a7e9dfee>, line 8)",
     "output_type": "error",
     "traceback": [
      "\u001b[1;36m  File \u001b[1;32m\"<ipython-input-11-dc02a7e9dfee>\"\u001b[1;36m, line \u001b[1;32m8\u001b[0m\n\u001b[1;33m    gra(x**2+y**2+z**2=25,10,20,30)\u001b[0m\n\u001b[1;37m       ^\u001b[0m\n\u001b[1;31mSyntaxError\u001b[0m\u001b[1;31m:\u001b[0m keyword can't be an expression\n"
     ]
    }
   ],
   "source": [
    "import matplotlib.pyplot as plt  \n",
    "def gra(formula, x_range, y_range, z_range):  \n",
    "    x = np.array(x_range)  \n",
    "    y = eval(formula)\n",
    "    plt.plot(x, y)  \n",
    "    plt.show()\n",
    "    \n",
    "gra(x**2+y**2+z**2=25,10,20,30)"
   ]
  }
 ],
 "metadata": {
  "kernelspec": {
   "display_name": "Python 3",
   "language": "python",
   "name": "python3"
  },
  "language_info": {
   "codemirror_mode": {
    "name": "ipython",
    "version": 3
   },
   "file_extension": ".py",
   "mimetype": "text/x-python",
   "name": "python",
   "nbconvert_exporter": "python",
   "pygments_lexer": "ipython3",
   "version": "3.6.1"
  }
 },
 "nbformat": 4,
 "nbformat_minor": 2
}
