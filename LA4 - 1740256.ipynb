{
 "cells": [
  {
   "cell_type": "code",
   "execution_count": null,
   "metadata": {},
   "outputs": [],
   "source": [
    "from sympy import Symbol,pprint,init_printing, FiniteSet\n",
    "import matplotlib.pyplot as plt\n",
    "from matplotlib_venn import venn3"
   ]
  },
  {
   "cell_type": "code",
   "execution_count": null,
   "metadata": {
    "collapsed": true
   },
   "outputs": [],
   "source": [
    "def print_series(n):\n",
    "    init_printing(order='rev-lex')\n",
    "    x=Symbol('x')\n",
    "    series=x\n",
    "    for i in range(2,n+1):\n",
    "        series=series+((-1)**n)*(x**(2*n+1))/2*n+1\n",
    "    pprint(series)\n",
    "        \n",
    "if __name__=='__main__':\n",
    "    n=input('Enter the number of terms you want in the series: ')\n",
    "    print_series(int(n))"
   ]
  },
  {
   "cell_type": "code",
   "execution_count": null,
   "metadata": {},
   "outputs": [],
   "source": [
    "def mysin(x, order):\n",
    "    a = x\n",
    "    s = a\n",
    "    for i in range(1, order):\n",
    "        a *= -1 * x**2 / ((2 * i) * (2 * i + 1))\n",
    "        s += a\n",
    "    return s\n",
    "\n",
    "import numpy as np\n",
    "vmysin = np.vectorize(mysin, excluded=['order'])\n",
    "\n",
    "x = np.linspace(-80, 80, 500)\n",
    "y2 = vmysin(x, 2)\n",
    "y10 = vmysin(x, 10)\n",
    "y100 = vmysin(x, 100)\n",
    "y1000 = vmysin(x, 1000)\n",
    "y = np.sin(x)\n",
    "\n",
    "plt.plot(x, y, label='sin(x)')\n",
    "plt.plot(x, y2, label='order 2')\n",
    "plt.plot(x, y10, label='order 10')\n",
    "plt.plot(x, y100, label='order 100')\n",
    "plt.plot(x, y1000, label='order 1000')\n",
    "plt.ylim([-3, 3])\n",
    "plt.legend()\n",
    "plt.show()"
   ]
  },
  {
   "cell_type": "code",
   "execution_count": null,
   "metadata": {},
   "outputs": [],
   "source": [
    "def print_series(n):\n",
    "    init_printing(order='rev-lex')\n",
    "    x=Symbol('x')\n",
    "    series=1\n",
    "    for i in range(2,n+1):\n",
    "        series=series+(1/n)\n",
    "    pprint(series)\n",
    "        \n",
    "if __name__=='__main__':\n",
    "    n=input('Enter the number of terms you want in the series: ')\n",
    "    print_series(int(n))"
   ]
  },
  {
   "cell_type": "code",
   "execution_count": null,
   "metadata": {},
   "outputs": [],
   "source": [
    "def draw_venn(sets):\n",
    "    venn3(subsets=sets)\n",
    "    plt.show()\n",
    "    \n",
    "\n",
    "if __name__=='__main__':\n",
    "    s1=FiniteSet(3,6,7,8,9,2)\n",
    "    s2=FiniteSet(1,3,4,7,8)\n",
    "    s3=FiniteSet(1,3,5,6,8,9)\n",
    "    draw_venn([s1,s2,s3])    "
   ]
  }
 ],
 "metadata": {
  "kernelspec": {
   "display_name": "Python 3",
   "language": "python",
   "name": "python3"
  },
  "language_info": {
   "codemirror_mode": {
    "name": "ipython",
    "version": 3
   },
   "file_extension": ".py",
   "mimetype": "text/x-python",
   "name": "python",
   "nbconvert_exporter": "python",
   "pygments_lexer": "ipython3",
   "version": "3.6.1"
  }
 },
 "nbformat": 4,
 "nbformat_minor": 2
}
