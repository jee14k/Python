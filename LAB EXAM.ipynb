{
 "cells": [
  {
   "cell_type": "code",
   "execution_count": null,
   "metadata": {},
   "outputs": [
    {
     "name": "stdout",
     "output_type": "stream",
     "text": [
      "1. Program to convert between kilograms & pounds\n",
      "2. Program to convert between Celcius & Fahrenheit\n"
     ]
    }
   ],
   "source": [
    "def mass():\n",
    "    print('Enter the value in Kilograms: ')\n",
    "    k=input();\n",
    "    p=k*2.2;\n",
    "    print('The value in pounds is: {0}'.format(p))\n",
    "    \n",
    "def temp():\n",
    "    print('Enter the value in Celcius: ')\n",
    "    c=input()\n",
    "    F=((9*c)/5)+32\n",
    "    print('The value in Fahrenheit is: {0}'.format(F))\n",
    "    \n",
    "def menu():\n",
    "    print(\"1. Program to convert between kilograms & pounds\")\n",
    "    print(\"2. Program to convert between Celcius & Fahrenheit\")\n",
    "    x=input()\n",
    "    if (x=='1'):\n",
    "        mass()\n",
    "    else:\n",
    "        temp()\n",
    "        \n",
    "menu()"
   ]
  },
  {
   "cell_type": "code",
   "execution_count": 1,
   "metadata": {
    "collapsed": true
   },
   "outputs": [],
   "source": [
    "def conv(x):\n",
    "    return (bin(x)[2:])"
   ]
  },
  {
   "cell_type": "code",
   "execution_count": 2,
   "metadata": {},
   "outputs": [
    {
     "data": {
      "text/plain": [
       "'101'"
      ]
     },
     "execution_count": 2,
     "metadata": {},
     "output_type": "execute_result"
    }
   ],
   "source": [
    "conv(5)"
   ]
  },
  {
   "cell_type": "code",
   "execution_count": 3,
   "metadata": {},
   "outputs": [
    {
     "data": {
      "text/plain": [
       "'11110101011101110'"
      ]
     },
     "execution_count": 3,
     "metadata": {},
     "output_type": "execute_result"
    }
   ],
   "source": [
    "conv(125678)"
   ]
  },
  {
   "cell_type": "code",
   "execution_count": null,
   "metadata": {
    "collapsed": true
   },
   "outputs": [],
   "source": []
  }
 ],
 "metadata": {
  "kernelspec": {
   "display_name": "Python 3",
   "language": "python",
   "name": "python3"
  },
  "language_info": {
   "codemirror_mode": {
    "name": "ipython",
    "version": 3
   },
   "file_extension": ".py",
   "mimetype": "text/x-python",
   "name": "python",
   "nbconvert_exporter": "python",
   "pygments_lexer": "ipython3",
   "version": "3.6.1"
  }
 },
 "nbformat": 4,
 "nbformat_minor": 2
}
