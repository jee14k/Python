{
 "cells": [
  {
   "cell_type": "markdown",
   "metadata": {},
   "source": [
    "# Linear Differential Equations"
   ]
  },
  {
   "cell_type": "code",
   "execution_count": 13,
   "metadata": {},
   "outputs": [
    {
     "name": "stdout",
     "output_type": "stream",
     "text": [
      "[ 2.  2.]\n"
     ]
    }
   ],
   "source": [
    "import numpy as np\n",
    "import sympy as sy\n",
    "import sympy, math\n",
    "x=sy.Symbol('x')\n",
    "F=x**2-4*x+4\n",
    "coeff=[1,-4,4]\n",
    "r=np.roots(coeff)\n",
    "print(r)"
   ]
  },
  {
   "cell_type": "markdown",
   "metadata": {},
   "source": [
    "## Example 01. Solve y'' + y' - 2y = 0"
   ]
  },
  {
   "cell_type": "code",
   "execution_count": 14,
   "metadata": {},
   "outputs": [
    {
     "name": "stdout",
     "output_type": "stream",
     "text": [
      "Solution to the given linear differential equation is given by: \n",
      "y =  c1*exp(1.0*x) + c2*exp(1.0*x)\n"
     ]
    }
   ],
   "source": [
    "print(\"Solution to the given linear differential equation is given by: \")\n",
    "c1 = sympy.Symbol('c1')\n",
    "c2 = sympy.Symbol('c2')\n",
    "x = sympy.Symbol('x')\n",
    "m = np.poly([0])\n",
    "f = m**2+m-2\n",
    "coeff = [1,1-2]\n",
    "r = np.roots(coeff)\n",
    "y = c1*sympy.exp(r[0]*x)+c2*sympy.exp(r[0]*x)\n",
    "print(\"y = \",y)"
   ]
  },
  {
   "cell_type": "markdown",
   "metadata": {},
   "source": [
    "## Example 02. Solve y'' + 6y' + 9y = 0"
   ]
  },
  {
   "cell_type": "code",
   "execution_count": 3,
   "metadata": {},
   "outputs": [
    {
     "name": "stdout",
     "output_type": "stream",
     "text": [
      "Solution to the given linear differential equation is given by: \n",
      "[-3. +3.72529030e-08j -3. -3.72529030e-08j]\n",
      "y =  (c1 + c2*x)*exp(x*(-3.0 + 3.72529029846191e-8*I))\n"
     ]
    }
   ],
   "source": [
    "print(\"Solution to the given linear differential equation is given by: \")\n",
    "c1 = sympy.Symbol('c1')\n",
    "c2 = sympy.Symbol('c2')\n",
    "x = sympy.Symbol('x')\n",
    "m = np.poly([0])\n",
    "f = m**2+6*m+9;\n",
    "r=np.roots([1,6,9])\n",
    "y=(c1+x*c2)*sy.exp(r[0]*x)\n",
    "print(r)\n",
    "print(\"y = \",y)"
   ]
  },
  {
   "cell_type": "markdown",
   "metadata": {},
   "source": [
    "## Example 03. Solve $y^{iv}+ 6y' + 9y = 0$"
   ]
  },
  {
   "cell_type": "code",
   "execution_count": 1,
   "metadata": {},
   "outputs": [
    {
     "ename": "SyntaxError",
     "evalue": "invalid syntax (<ipython-input-1-b47aa1eae01c>, line 12)",
     "output_type": "error",
     "traceback": [
      "\u001b[1;36m  File \u001b[1;32m\"<ipython-input-1-b47aa1eae01c>\"\u001b[1;36m, line \u001b[1;32m12\u001b[0m\n\u001b[1;33m    y=c1*sympy.exp(r[0].real*x+c2.sympy.exp(r[1].real*x)+c3*sympy.exp(r[2].real*x))+c4*sympy.exp(r[3].real*x))\u001b[0m\n\u001b[1;37m                                                                                                             ^\u001b[0m\n\u001b[1;31mSyntaxError\u001b[0m\u001b[1;31m:\u001b[0m invalid syntax\n"
     ]
    }
   ],
   "source": [
    "c1 = sympy.Symbol('c1')\n",
    "c2 = sympy.Symbol('c2')\n",
    "c3 = sympy.Symbol('c3')\n",
    "c4 = sympy.Symbol('c4')\n",
    "x = sympy.Symbol('x')\n",
    "m = np.poly([0])\n",
    "f = m**4+4;\n",
    "r=np.roots([1,0,0,0,4])\n",
    "print('roots are: ')\n",
    "print(r)\n",
    "print('Solution is: ')\n",
    "y=c1*sympy.exp(r[0].real*x+c2.sympy.exp(r[1].real*x)+c3*sympy.exp(r[2].real*x))+c4*sympy.exp(r[3].real*x))"
   ]
  },
  {
   "cell_type": "markdown",
   "metadata": {
    "collapsed": true
   },
   "source": [
    "## Linear Differential equations with constant coefficients"
   ]
  },
  {
   "cell_type": "markdown",
   "metadata": {},
   "source": [
    "## Q1: Solve the differential equation$\\frac{d^2} \n",
    "{dx^2}-5f=0$"
   ]
  },
  {
   "cell_type": "code",
   "execution_count": 16,
   "metadata": {
    "collapsed": true
   },
   "outputs": [],
   "source": [
    "#to print neatly\n",
    "from sympy.interactive import printing\n",
    "printing.init_printing(use_latex=True)\n",
    "import sympy as sp\n",
    "from sympy import *"
   ]
  },
  {
   "cell_type": "code",
   "execution_count": 17,
   "metadata": {},
   "outputs": [
    {
     "data": {
      "image/png": "[encoded data removed]",
      "text/latex": [
       "$$x$$"
      ],
      "text/plain": [
       "x"
      ]
     },
     "execution_count": 17,
     "metadata": {},
     "output_type": "execute_result"
    }
   ],
   "source": [
    "x=Symbol('x')\n",
    "x                    #defining symbol using symbol"
   ]
  },
  {
   "cell_type": "code",
   "execution_count": 18,
   "metadata": {},
   "outputs": [
    {
     "data": {
      "image/png": "[encoded data removed]",
      "text/latex": [
       "$$- 5 f{\\left (x \\right )} + \\frac{d^{2}}{d x^{2}}  f{\\left (x \\right )} = 0$$"
      ],
      "text/plain": [
       "            2          \n",
       "           d           \n",
       "-5⋅f(x) + ───(f(x)) = 0\n",
       "            2          \n",
       "          dx           "
      ]
     },
     "execution_count": 18,
     "metadata": {},
     "output_type": "execute_result"
    }
   ],
   "source": [
    "from sympy import *\n",
    "f = Function('f')(x)                       #defining f as a function of x\n",
    "diffeq = Eq(f.diff(x,x)-5*f,0)             #define the differential equation\n",
    "diffeq                            #to print the differential equation"
   ]
  },
  {
   "cell_type": "code",
   "execution_count": 19,
   "metadata": {},
   "outputs": [
    {
     "data": {
      "image/png": "[encoded data removed]",
      "text/latex": [
       "$$f{\\left (x \\right )} = C_{1} e^{- \\sqrt{5} x} + C_{2} e^{\\sqrt{5} x}$$"
      ],
      "text/plain": [
       "           -√5⋅x       √5⋅x\n",
       "f(x) = C₁⋅ℯ      + C₂⋅ℯ    "
      ]
     },
     "execution_count": 19,
     "metadata": {},
     "output_type": "execute_result"
    }
   ],
   "source": [
    "dsolve(diffeq,f)           #solving the differential equation"
   ]
  },
  {
   "cell_type": "markdown",
   "metadata": {},
   "source": [
    "## Q2: Solve the differential equation $\\frac{d^2y}\n",
    "{dx^2}+5\\frac{dy}{dx}+6=0$"
   ]
  },
  {
   "cell_type": "code",
   "execution_count": 20,
   "metadata": {},
   "outputs": [
    {
     "name": "stdout",
     "output_type": "stream",
     "text": [
      "The differential equation is: \n",
      "<function diff at 0x000002719CE4E268>\n",
      "The solution is: \n"
     ]
    },
    {
     "data": {
      "image/png": "[encoded data removed]",
      "text/latex": [
       "$$y{\\left (x \\right )} = \\left(C_{1} + C_{2} e^{- x}\\right) e^{- 2 x}$$"
      ],
      "text/plain": [
       "       ⎛         -x⎞  -2⋅x\n",
       "y(x) = ⎝C₁ + C₂⋅ℯ  ⎠⋅ℯ    "
      ]
     },
     "execution_count": 20,
     "metadata": {},
     "output_type": "execute_result"
    }
   ],
   "source": [
    "x = Symbol('x')\n",
    "y = Function('y')(x)               #defining y as a function of x \n",
    "diffeq = Eq(y.diff(x,x)+5*y.diff(x)+6*y,0)     #define the #define the differential equation\n",
    "print('The differential equation is: ')\n",
    "print(diff)\n",
    "print('The solution is: ')\n",
    "dsolve(diffeq,y)"
   ]
  },
  {
   "cell_type": "code",
   "execution_count": 21,
   "metadata": {},
   "outputs": [
    {
     "name": "stdout",
     "output_type": "stream",
     "text": [
      "The differential equation is: \n",
      "<function diff at 0x000002719CE4E268>\n",
      "The solution is: \n"
     ]
    },
    {
     "data": {
      "image/png": "[encoded data removed]",
      "text/latex": [
       "$$y{\\left (x \\right )} = C_{3} e^{- x} + \\left(C_{1} \\sin{\\left (\\frac{\\sqrt{3} x}{2} \\right )} + C_{2} \\cos{\\left (\\frac{\\sqrt{3} x}{2} \\right )}\\right) \\sqrt{e^{x}}$$"
      ],
      "text/plain": [
       "                                                 ____\n",
       "           -x   ⎛      ⎛√3⋅x⎞         ⎛√3⋅x⎞⎞   ╱  x \n",
       "y(x) = C₃⋅ℯ   + ⎜C₁⋅sin⎜────⎟ + C₂⋅cos⎜────⎟⎟⋅╲╱  ℯ  \n",
       "                ⎝      ⎝ 2  ⎠         ⎝ 2  ⎠⎠        "
      ]
     },
     "execution_count": 21,
     "metadata": {},
     "output_type": "execute_result"
    }
   ],
   "source": [
    "x = Symbol('x')\n",
    "y = Function('y')(x)               #defining y as a function of x \n",
    "diffeq = Eq(y.diff(x,x,x)+y,0)     #define the differential equation\n",
    "print('The differential equation is: ')\n",
    "print(diff)\n",
    "print('The solution is: ')\n",
    "dsolve(diffeq,y)"
   ]
  },
  {
   "cell_type": "markdown",
   "metadata": {
    "collapsed": true
   },
   "source": [
    "## Q6. Solve (D^2 + 4)y = cos3x"
   ]
  },
  {
   "cell_type": "code",
   "execution_count": 22,
   "metadata": {},
   "outputs": [
    {
     "name": "stdout",
     "output_type": "stream",
     "text": [
      "The differential equation is: \n",
      "<function diff at 0x000002719CE4E268>\n",
      "The solution is: \n"
     ]
    },
    {
     "data": {
      "image/png": "[encoded data removed]",
      "text/latex": [
       "$$y{\\left (x \\right )} = C_{1} \\sin{\\left (2 x \\right )} + C_{2} \\cos{\\left (2 x \\right )} - \\frac{1}{5} \\cos{\\left (3 x \\right )}$$"
      ],
      "text/plain": [
       "                                   cos(3⋅x)\n",
       "y(x) = C₁⋅sin(2⋅x) + C₂⋅cos(2⋅x) - ────────\n",
       "                                      5    "
      ]
     },
     "execution_count": 22,
     "metadata": {},
     "output_type": "execute_result"
    }
   ],
   "source": [
    "x = Symbol('x')\n",
    "y = Function('y')(x)               #defining y as a function of x \n",
    "diffeq = Eq(y.diff(x,x)+4*y,cos(3*x))     #define the differential equation\n",
    "print('The differential equation is: ')\n",
    "print(diff)\n",
    "print('The solution is: ')\n",
    "dsolve(diffeq,y)"
   ]
  },
  {
   "cell_type": "markdown",
   "metadata": {},
   "source": [
    "## Q7: Solve (D^2 +4D + 4)y = e^(-3x)"
   ]
  },
  {
   "cell_type": "code",
   "execution_count": 23,
   "metadata": {},
   "outputs": [
    {
     "name": "stdout",
     "output_type": "stream",
     "text": [
      "The differential equation is: \n",
      "<function diff at 0x000002719CE4E268>\n",
      "The solution is: \n"
     ]
    },
    {
     "data": {
      "image/png": "[encoded data removed]",
      "text/latex": [
       "$$y{\\left (x \\right )} = \\left(C_{1} + C_{2} x + e^{- x}\\right) e^{- 2 x}$$"
      ],
      "text/plain": [
       "       ⎛             -x⎞  -2⋅x\n",
       "y(x) = ⎝C₁ + C₂⋅x + ℯ  ⎠⋅ℯ    "
      ]
     },
     "execution_count": 23,
     "metadata": {},
     "output_type": "execute_result"
    }
   ],
   "source": [
    "diffeq = Eq(y.diff(x,x)+4*y.diff(x)+4*y,exp(-3*x))     #define the differential equation\n",
    "print('The differential equation is: ')\n",
    "print(diff)\n",
    "print('The solution is: ')\n",
    "dsolve(diffeq,y)"
   ]
  },
  {
   "cell_type": "markdown",
   "metadata": {},
   "source": [
    "## Q8. Solve(D^2 -2D +2)y = e^xcos(2x)"
   ]
  },
  {
   "cell_type": "code",
   "execution_count": 26,
   "metadata": {},
   "outputs": [
    {
     "name": "stdout",
     "output_type": "stream",
     "text": [
      "The differential equation is: \n",
      "<function diff at 0x000002719CE4E268>\n",
      "The solution is: \n"
     ]
    },
    {
     "data": {
      "image/png": "[encoded data removed]",
      "text/latex": [
       "$$y{\\left (x \\right )} = \\left(C_{1} \\sin{\\left (x \\right )} + C_{2} \\cos{\\left (x \\right )} - \\frac{1}{3} \\cos{\\left (2 x \\right )}\\right) e^{x}$$"
      ],
      "text/plain": [
       "       ⎛                        cos(2⋅x)⎞  x\n",
       "y(x) = ⎜C₁⋅sin(x) + C₂⋅cos(x) - ────────⎟⋅ℯ \n",
       "       ⎝                           3    ⎠   "
      ]
     },
     "execution_count": 26,
     "metadata": {},
     "output_type": "execute_result"
    }
   ],
   "source": [
    "diffeq = Eq(y.diff(x,x)-2*y.diff(x)+2*y,exp(x)*cos(2*x))     #define the differential equation\n",
    "print('The differential equation is: ')\n",
    "print(diff)\n",
    "print('The solution is: ')\n",
    "dsolve(diffeq,y)"
   ]
  },
  {
   "cell_type": "markdown",
   "metadata": {},
   "source": [
    "## 1. Solve $\\frac{dy}{dx} = x-y, y_0 =1$"
   ]
  },
  {
   "cell_type": "code",
   "execution_count": 27,
   "metadata": {},
   "outputs": [
    {
     "data": {
      "image/png": "[encoded data removed]",
      "text/latex": [
       "$$f{\\left (x \\right )} = \\left(C_{1} + \\left(x - 1\\right) e^{x}\\right) e^{- x}$$"
      ],
      "text/plain": [
       "       ⎛              x⎞  -x\n",
       "f(x) = ⎝C₁ + (x - 1)⋅ℯ ⎠⋅ℯ  "
      ]
     },
     "execution_count": 27,
     "metadata": {},
     "output_type": "execute_result"
    }
   ],
   "source": [
    "x = sy.Symbol('x')\n",
    "f = sp.Function('f')(x)\n",
    "diffe = Eq(f.diff(x)-x+f,0)\n",
    "diffe\n",
    "dsolve(diffe,f)"
   ]
  },
  {
   "cell_type": "markdown",
   "metadata": {
    "collapsed": true
   },
   "source": [
    "## Linear Differential equations using ODEINT\n",
    "### 1. Model: Fuction name that returns derivative values at requested y and t values as dy_dt = model(y,t)\n",
    "### 2. y0: Initial conditions of the differential states\n",
    "### 3. t: Time points at which the solution should be reported. Additional internal points are often calculated to maintain accuracy of the solution but are not reported. "
   ]
  },
  {
   "cell_type": "markdown",
   "metadata": {},
   "source": [
    "## Solve $\\frac{dy}{dx} = x-y, y_0 =1$"
   ]
  },
  {
   "cell_type": "code",
   "execution_count": 6,
   "metadata": {
    "collapsed": true
   },
   "outputs": [],
   "source": [
    "import numpy as np\n",
    "import matplotlib.pyplot as plt\n",
    "%matplotlib inline  \n",
    "from scipy.integrate import odeint"
   ]
  },
  {
   "cell_type": "code",
   "execution_count": 8,
   "metadata": {
    "collapsed": true
   },
   "outputs": [],
   "source": [
    "#Define a function that calculates the derivative\n",
    "def dy_dx(y,x):\n",
    "    return x-y\n",
    "xs = np.linspace(0,10,100)\n",
    "y0 = 1.0 #the initial condition\n",
    "ys = odeint(dy_dx,y0,xs)"
   ]
  },
  {
   "cell_type": "code",
   "execution_count": 9,
   "metadata": {},
   "outputs": [
    {
     "data": {
      "image/png": "[encoded data removed]",
      "text/plain": [
       "<matplotlib.figure.Figure at 0x2dac5f0ca58>"
      ]
     },
     "metadata": {},
     "output_type": "display_data"
    },
    {
     "name": "stdout",
     "output_type": "stream",
     "text": [
      "[[ 1.        ]\n",
      " [ 0.90885793]\n",
      " [ 0.83617706]\n",
      " [ 0.78018375]\n",
      " [ 0.73927472]\n",
      " [ 0.71200073]\n",
      " [ 0.69705177]\n",
      " [ 0.69324371]\n",
      " [ 0.69950615]\n",
      " [ 0.71487157]\n",
      " [ 0.73846541]\n",
      " [ 0.7694971 ]\n",
      " [ 0.80725205]\n",
      " [ 0.8510843 ]\n",
      " [ 0.90040998]\n",
      " [ 0.95470129]\n",
      " [ 1.01348116]\n",
      " [ 1.07631834]\n",
      " [ 1.14282303]\n",
      " [ 1.21264287]\n",
      " [ 1.28545935]\n",
      " [ 1.36098456]\n",
      " [ 1.43895825]\n",
      " [ 1.5191452 ]\n",
      " [ 1.60133275]\n",
      " [ 1.68532871]\n",
      " [ 1.77095931]\n",
      " [ 1.85806751]\n",
      " [ 1.94651137]\n",
      " [ 2.03616254]\n",
      " [ 2.12690503]\n",
      " [ 2.21863399]\n",
      " [ 2.31125464]\n",
      " [ 2.40468132]\n",
      " [ 2.49883659]\n",
      " [ 2.59365044]\n",
      " [ 2.6890596 ]\n",
      " [ 2.78500688]\n",
      " [ 2.88144057]\n",
      " [ 2.97831395]\n",
      " [ 3.07558477]\n",
      " [ 3.17321484]\n",
      " [ 3.27116966]\n",
      " [ 3.36941801]\n",
      " [ 3.4679317 ]\n",
      " [ 3.56668524]\n",
      " [ 3.66565558]\n",
      " [ 3.76482189]\n",
      " [ 3.86416535]\n",
      " [ 3.96366893]\n",
      " [ 4.06331725]\n",
      " [ 4.1630964 ]\n",
      " [ 4.26299382]\n",
      " [ 4.36299814]\n",
      " [ 4.4630991 ]\n",
      " [ 4.5632874 ]\n",
      " [ 4.66355465]\n",
      " [ 4.76389328]\n",
      " [ 4.86429642]\n",
      " [ 4.96475787]\n",
      " [ 5.06527204]\n",
      " [ 5.16583385]\n",
      " [ 5.26643873]\n",
      " [ 5.36708254]\n",
      " [ 5.46776154]\n",
      " [ 5.56847236]\n",
      " [ 5.66921193]\n",
      " [ 5.76997749]\n",
      " [ 5.87076655]\n",
      " [ 5.97157684]\n",
      " [ 6.07240633]\n",
      " [ 6.17325317]\n",
      " [ 6.2741157 ]\n",
      " [ 6.37499241]\n",
      " [ 6.47588193]\n",
      " [ 6.57678303]\n",
      " [ 6.67769461]\n",
      " [ 6.77861566]\n",
      " [ 6.87954526]\n",
      " [ 6.9804826 ]\n",
      " [ 7.08142693]\n",
      " [ 7.18237757]\n",
      " [ 7.28333393]\n",
      " [ 7.38429545]\n",
      " [ 7.48526164]\n",
      " [ 7.58623205]\n",
      " [ 7.68720627]\n",
      " [ 7.78818394]\n",
      " [ 7.88916472]\n",
      " [ 7.99014832]\n",
      " [ 8.09113447]\n",
      " [ 8.19212292]\n",
      " [ 8.29311345]\n",
      " [ 8.39410586]\n",
      " [ 8.49509997]\n",
      " [ 8.59609561]\n",
      " [ 8.69709264]\n",
      " [ 8.79809093]\n",
      " [ 8.89909035]\n",
      " [ 9.0000908 ]]\n"
     ]
    }
   ],
   "source": [
    "#plot results\n",
    "plt.plot(xs,ys)\n",
    "plt.xlabel('x')\n",
    "plt.ylabel('y')\n",
    "plt.show()\n",
    "print(ys)"
   ]
  },
  {
   "cell_type": "markdown",
   "metadata": {},
   "source": [
    "## Solve  $\\frac{dy}{dx} = -ky(t)$ with parameter k = 0.1,0.2,0.5 and the initial condition $y_0 = 5$"
   ]
  },
  {
   "cell_type": "code",
   "execution_count": 12,
   "metadata": {},
   "outputs": [
    {
     "data": {
      "image/png": "[encoded data removed]",
      "text/plain": [
       "<matplotlib.figure.Figure at 0x2dac98cc630>"
      ]
     },
     "metadata": {},
     "output_type": "display_data"
    },
    {
     "name": "stdout",
     "output_type": "stream",
     "text": [
      "[[ 5.        ]\n",
      " [ 4.80200666]\n",
      " [ 4.61185355]\n",
      " [ 4.42923022]\n",
      " [ 4.25383855]\n",
      " [ 4.08539215]\n",
      " [ 3.92361596]\n",
      " [ 3.76824595]\n",
      " [ 3.61902844]\n",
      " [ 3.4757197 ]\n",
      " [ 3.33808578]\n",
      " [ 3.20590199]\n",
      " [ 3.07895251]\n",
      " [ 2.95703006]\n",
      " [ 2.83993557]\n",
      " [ 2.72747787]\n",
      " [ 2.61947335]\n",
      " [ 2.51574566]\n",
      " [ 2.41612546]\n",
      " [ 2.3204501 ]\n",
      " [ 2.22856338]\n",
      " [ 2.14031524]\n",
      " [ 2.05556157]\n",
      " [ 1.97416399]\n",
      " [ 1.89598969]\n",
      " [ 1.82091103]\n",
      " [ 1.74880537]\n",
      " [ 1.67955497]\n",
      " [ 1.6130468 ]\n",
      " [ 1.54917228]\n",
      " [ 1.48782711]\n",
      " [ 1.42891112]\n",
      " [ 1.37232812]\n",
      " [ 1.31798574]\n",
      " [ 1.26579524]\n",
      " [ 1.21567142]\n",
      " [ 1.16753244]\n",
      " [ 1.12129969]\n",
      " [ 1.0768977 ]\n",
      " [ 1.03425397]\n",
      " [ 0.99329888]\n",
      " [ 0.95396554]\n",
      " [ 0.91618977]\n",
      " [ 0.87990986]\n",
      " [ 0.84506658]\n",
      " [ 0.81160305]\n",
      " [ 0.77946464]\n",
      " [ 0.74859887]\n",
      " [ 0.71895534]\n",
      " [ 0.69048565]\n",
      " [ 0.66314333]\n",
      " [ 0.63688372]\n",
      " [ 0.61166396]\n",
      " [ 0.58744288]\n",
      " [ 0.56418091]\n",
      " [ 0.54184009]\n",
      " [ 0.52038394]\n",
      " [ 0.49977742]\n",
      " [ 0.47998689]\n",
      " [ 0.46098004]\n",
      " [ 0.44272584]\n",
      " [ 0.42519447]\n",
      " [ 0.40835733]\n",
      " [ 0.39218692]\n",
      " [ 0.37665683]\n",
      " [ 0.36174172]\n",
      " [ 0.34741722]\n",
      " [ 0.33365996]\n",
      " [ 0.32044746]\n",
      " [ 0.30775816]\n",
      " [ 0.29557134]\n",
      " [ 0.28386711]\n",
      " [ 0.27262634]\n",
      " [ 0.2618307 ]\n",
      " [ 0.25146255]\n",
      " [ 0.24150496]\n",
      " [ 0.23194168]\n",
      " [ 0.2227571 ]\n",
      " [ 0.21393621]\n",
      " [ 0.20546462]\n",
      " [ 0.19732849]\n",
      " [ 0.18951454]\n",
      " [ 0.18201001]\n",
      " [ 0.17480266]\n",
      " [ 0.1678807 ]\n",
      " [ 0.16123285]\n",
      " [ 0.15484824]\n",
      " [ 0.14871645]\n",
      " [ 0.14282748]\n",
      " [ 0.1371717 ]\n",
      " [ 0.13173988]\n",
      " [ 0.12652316]\n",
      " [ 0.12151301]\n",
      " [ 0.11670125]\n",
      " [ 0.11208004]\n",
      " [ 0.10764182]\n",
      " [ 0.10337934]\n",
      " [ 0.09928566]\n",
      " [ 0.09535408]\n",
      " [ 0.09157818]]\n"
     ]
    }
   ],
   "source": [
    "#function that returns dy/dt\n",
    "def model(y,t):\n",
    "    k=0.2\n",
    "    dydt = -k*y\n",
    "    return dydt\n",
    "\n",
    "# initial condition\n",
    "y0=5\n",
    "\n",
    "# time points \n",
    "t = np.linspace(0,20,100)\n",
    "\n",
    "#solve ODE\n",
    "y = odeint(model,y0,t)\n",
    "\n",
    "#plot results\n",
    "plt.plot(t,y)\n",
    "plt.xlabel('time')\n",
    "plt.ylabel('y(t)')\n",
    "plt.show()\n",
    "print(y)"
   ]
  },
  {
   "cell_type": "code",
   "execution_count": 9,
   "metadata": {},
   "outputs": [
    {
     "data": {
      "image/png": "[encoded data removed]",
      "text/plain": [
       "<matplotlib.figure.Figure at 0x18c1c3e80f0>"
      ]
     },
     "metadata": {},
     "output_type": "display_data"
    }
   ],
   "source": [
    "import numpy as np\n",
    "import matplotlib.pyplot as plt\n",
    "%matplotlib inline  \n",
    "from scipy.integrate import odeint\n",
    "\n",
    "#function that returns dy/dt\n",
    "def model(y,t,k):\n",
    "    dydt = -k*y\n",
    "    return dydt\n",
    "\n",
    "# initial condition\n",
    "y0=5\n",
    "\n",
    "# time points \n",
    "t = np.linspace(0,20)\n",
    "\n",
    "#solve ODE\n",
    "k = 0.1\n",
    "y1 = odeint(model,y0,t,args=(k,))\n",
    "k = 0.2\n",
    "y2 = odeint(model,y0,t,args=(k,))\n",
    "k = 0.5\n",
    "y3 = odeint(model,y0,t,args=(k,))\n",
    "\n",
    "\n",
    "#plot results\n",
    "plt.plot(t,y1,'r-',linewidth=2,label='k=0.1')\n",
    "plt.plot(t,y2,'b--',linewidth=2,label='k=0.1')\n",
    "plt.plot(t,y3,'g.',linewidth=2,label='k=0.5')\n",
    "plt.xlabel('time')\n",
    "plt.ylabel('y(t)')\n",
    "plt.legend()\n",
    "plt.show()"
   ]
  },
  {
   "cell_type": "code",
   "execution_count": 14,
   "metadata": {},
   "outputs": [
    {
     "data": {
      "image/png": "[encoded data removed]",
      "text/plain": [
       "<matplotlib.figure.Figure at 0x18c1fd7bef0>"
      ]
     },
     "metadata": {},
     "output_type": "display_data"
    }
   ],
   "source": [
    "#function that returns dy/dt\n",
    "def model(y,t):\n",
    "    if t<10.0:\n",
    "        u=0\n",
    "    else:\n",
    "        u=2\n",
    "    dydt = (-y + u)/5.0\n",
    "    return dydt\n",
    "\n",
    "# initial condition\n",
    "y0 = 0\n",
    "\n",
    "# time points \n",
    "t = np.linspace(0,40,1000)\n",
    "\n",
    "#solve ODE\n",
    "y = odeint(model,y0,t)\n",
    "\n",
    "#plot results\n",
    "plt.plot(t,y,'r-',label='Output (y(t))')\n",
    "plt.plot([0,10,10,40],[0,0,2,2],'b-',label='Input (u(t))')\n",
    "plt.xlabel('values')\n",
    "plt.ylabel('time')\n",
    "plt.legend(loc='best')\n",
    "plt.show()"
   ]
  },
  {
   "cell_type": "code",
   "execution_count": null,
   "metadata": {
    "collapsed": true
   },
   "outputs": [],
   "source": []
  }
 ],
 "metadata": {
  "kernelspec": {
   "display_name": "Python 3",
   "language": "python",
   "name": "python3"
  },
  "language_info": {
   "codemirror_mode": {
    "name": "ipython",
    "version": 3
   },
   "file_extension": ".py",
   "mimetype": "text/x-python",
   "name": "python",
   "nbconvert_exporter": "python",
   "pygments_lexer": "ipython3",
   "version": "3.6.1"
  }
 },
 "nbformat": 4,
 "nbformat_minor": 2
}
