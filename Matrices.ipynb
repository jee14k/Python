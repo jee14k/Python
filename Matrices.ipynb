{
 "cells": [
  {
   "cell_type": "code",
   "execution_count": 1,
   "metadata": {
    "collapsed": true
   },
   "outputs": [],
   "source": [
    "u=2.5+3j\n",
    "v=2\n",
    "w=u+v"
   ]
  },
  {
   "cell_type": "code",
   "execution_count": 2,
   "metadata": {},
   "outputs": [
    {
     "ename": "TypeError",
     "evalue": "can't convert complex to float",
     "output_type": "error",
     "traceback": [
      "\u001b[1;31m---------------------------------------------------------------------------\u001b[0m",
      "\u001b[1;31mTypeError\u001b[0m                                 Traceback (most recent call last)",
      "\u001b[1;32m<ipython-input-2-f2478e858a9e>\u001b[0m in \u001b[0;36m<module>\u001b[1;34m()\u001b[0m\n\u001b[0;32m      1\u001b[0m \u001b[1;32mfrom\u001b[0m \u001b[0mmath\u001b[0m \u001b[1;32mimport\u001b[0m \u001b[0msin\u001b[0m\u001b[1;33m\u001b[0m\u001b[0m\n\u001b[1;32m----> 2\u001b[1;33m \u001b[0mr\u001b[0m\u001b[1;33m=\u001b[0m\u001b[0msin\u001b[0m\u001b[1;33m(\u001b[0m\u001b[0mw\u001b[0m\u001b[1;33m)\u001b[0m\u001b[1;33m\u001b[0m\u001b[0m\n\u001b[0m",
      "\u001b[1;31mTypeError\u001b[0m: can't convert complex to float"
     ]
    }
   ],
   "source": [
    "from math import sin\n",
    "r=sin(w)"
   ]
  },
  {
   "cell_type": "code",
   "execution_count": 20,
   "metadata": {},
   "outputs": [
    {
     "data": {
      "text/plain": [
       "(-9.841442815345065-2.1117259539209345j)"
      ]
     },
     "execution_count": 20,
     "metadata": {},
     "output_type": "execute_result"
    }
   ],
   "source": [
    "from cmath import sin,sinh\n",
    "from numpy.lib.scimath import *\n",
    "from cmath import *\n",
    "from math import sqrt\n",
    "from cmath import sqrt\n",
    "import numpy\n",
    "r=sin(w)\n",
    "r"
   ]
  },
  {
   "cell_type": "code",
   "execution_count": 11,
   "metadata": {},
   "outputs": [
    {
     "data": {
      "text/plain": [
       "1490.4788257895502j"
      ]
     },
     "execution_count": 11,
     "metadata": {},
     "output_type": "execute_result"
    }
   ],
   "source": [
    "r1=sin(8j)\n",
    "r1"
   ]
  },
  {
   "cell_type": "code",
   "execution_count": 12,
   "metadata": {},
   "outputs": [
    {
     "data": {
      "text/plain": [
       "1490.4788257895502j"
      ]
     },
     "execution_count": 12,
     "metadata": {},
     "output_type": "execute_result"
    }
   ],
   "source": [
    "r2=1j*sinh(8)\n",
    "r2"
   ]
  },
  {
   "cell_type": "code",
   "execution_count": 15,
   "metadata": {},
   "outputs": [
    {
     "data": {
      "text/plain": [
       "(-0.14550003380861354+0.9893582466233818j)"
      ]
     },
     "execution_count": 15,
     "metadata": {},
     "output_type": "execute_result"
    }
   ],
   "source": [
    "q=8\n",
    "exp(1j*q)"
   ]
  },
  {
   "cell_type": "code",
   "execution_count": 16,
   "metadata": {},
   "outputs": [
    {
     "data": {
      "text/plain": [
       "(-0.14550003380861354+0.9893582466233818j)"
      ]
     },
     "execution_count": 16,
     "metadata": {},
     "output_type": "execute_result"
    }
   ],
   "source": [
    "cos(q)+1j*sin(q)"
   ]
  },
  {
   "cell_type": "code",
   "execution_count": 19,
   "metadata": {},
   "outputs": [
    {
     "ename": "ValueError",
     "evalue": "math domain error",
     "output_type": "error",
     "traceback": [
      "\u001b[1;31m---------------------------------------------------------------------------\u001b[0m",
      "\u001b[1;31mValueError\u001b[0m                                Traceback (most recent call last)",
      "\u001b[1;32m<ipython-input-19-e94865f03ce3>\u001b[0m in \u001b[0;36m<module>\u001b[1;34m()\u001b[0m\n\u001b[1;32m----> 1\u001b[1;33m \u001b[0msqrt\u001b[0m\u001b[1;33m(\u001b[0m\u001b[1;33m-\u001b[0m\u001b[1;36m1\u001b[0m\u001b[1;33m)\u001b[0m\u001b[1;33m\u001b[0m\u001b[0m\n\u001b[0m",
      "\u001b[1;31mValueError\u001b[0m: math domain error"
     ]
    }
   ],
   "source": [
    "sqrt(-1)"
   ]
  },
  {
   "cell_type": "code",
   "execution_count": 21,
   "metadata": {},
   "outputs": [
    {
     "data": {
      "text/plain": [
       "1j"
      ]
     },
     "execution_count": 21,
     "metadata": {},
     "output_type": "execute_result"
    }
   ],
   "source": [
    "sqrt(-1)"
   ]
  },
  {
   "cell_type": "markdown",
   "metadata": {},
   "source": []
  },
  {
   "cell_type": "code",
   "execution_count": 8,
   "metadata": {
    "collapsed": true
   },
   "outputs": [],
   "source": [
    "import numpy as np"
   ]
  },
  {
   "cell_type": "code",
   "execution_count": 11,
   "metadata": {},
   "outputs": [
    {
     "name": "stdout",
     "output_type": "stream",
     "text": [
      "[[ 2  5]\n",
      " [ 9 11]]\n"
     ]
    }
   ],
   "source": [
    "x=np.array([[1,2],[4,5]])\n",
    "y=np.array([[1,3],[5,6]])\n",
    "print(np.add(x,y))"
   ]
  },
  {
   "cell_type": "code",
   "execution_count": 12,
   "metadata": {},
   "outputs": [
    {
     "name": "stdout",
     "output_type": "stream",
     "text": [
      "[[ 0 -1]\n",
      " [-1 -1]]\n"
     ]
    }
   ],
   "source": [
    "print(np.subtract(x,y))"
   ]
  },
  {
   "cell_type": "code",
   "execution_count": 13,
   "metadata": {},
   "outputs": [
    {
     "name": "stdout",
     "output_type": "stream",
     "text": [
      "[[ 1.          0.66666667]\n",
      " [ 0.8         0.83333333]]\n"
     ]
    }
   ],
   "source": [
    "print(np.divide(x,y))"
   ]
  },
  {
   "cell_type": "code",
   "execution_count": 14,
   "metadata": {},
   "outputs": [
    {
     "name": "stdout",
     "output_type": "stream",
     "text": [
      "[[ 1  6]\n",
      " [20 30]]\n"
     ]
    }
   ],
   "source": [
    "print(np.multiply(x,y))"
   ]
  },
  {
   "cell_type": "code",
   "execution_count": 15,
   "metadata": {},
   "outputs": [
    {
     "name": "stdout",
     "output_type": "stream",
     "text": [
      "[[11 15]\n",
      " [29 42]]\n"
     ]
    }
   ],
   "source": [
    "print(np.dot(x,y))"
   ]
  },
  {
   "cell_type": "code",
   "execution_count": 1,
   "metadata": {},
   "outputs": [
    {
     "name": "stdout",
     "output_type": "stream",
     "text": [
      "-8.0\n"
     ]
    }
   ],
   "source": [
    "import numpy as np\n",
    "matrix = np.matrix([[1,4],[2,0]])\n",
    "det=np.linalg.det(matrix)\n",
    "print(det)     "
   ]
  },
  {
   "cell_type": "code",
   "execution_count": 2,
   "metadata": {},
   "outputs": [
    {
     "name": "stdout",
     "output_type": "stream",
     "text": [
      "[[1, 5, 6, 7], [8, 9, 1, 0], [2, 3, 4, 5], [4, 5, 2, 3]]\n",
      "-86.0\n"
     ]
    }
   ],
   "source": [
    "A=([[1,5,6,7],[8,9,1,0],[2,3,4,5],[4,5,2,3]])\n",
    "A_det=np.linalg.det(A)\n",
    "print(A)\n",
    "print(A_det)"
   ]
  },
  {
   "cell_type": "code",
   "execution_count": 3,
   "metadata": {},
   "outputs": [
    {
     "name": "stdout",
     "output_type": "stream",
     "text": [
      "[[ 0.     0.5  ]\n",
      " [ 0.25  -0.125]]\n",
      "[[-0.39534884  0.09302326  0.65116279 -0.1627907 ]\n",
      " [ 0.34883721 -0.02325581 -0.6627907   0.29069767]\n",
      " [ 0.02325581  0.46511628  0.75581395 -1.31395349]\n",
      " [-0.06976744 -0.39534884 -0.26744186  0.94186047]]\n",
      "[[  1.00000000e+00   5.00000000e+00   6.00000000e+00   7.00000000e+00]\n",
      " [  8.00000000e+00   9.00000000e+00   1.00000000e+00   2.35922393e-16]\n",
      " [  2.00000000e+00   3.00000000e+00   4.00000000e+00   5.00000000e+00]\n",
      " [  4.00000000e+00   5.00000000e+00   2.00000000e+00   3.00000000e+00]]\n"
     ]
    }
   ],
   "source": [
    "inverse=np.linalg.inv(matrix)\n",
    "A_inv=np.linalg.inv(A)\n",
    "print(inverse)\n",
    "print(A_inv)\n",
    "B=np.linalg.inv(A_inv)\n",
    "print(B)"
   ]
  },
  {
   "cell_type": "code",
   "execution_count": 4,
   "metadata": {},
   "outputs": [
    {
     "name": "stdout",
     "output_type": "stream",
     "text": [
      "-9.0\n",
      "24.0\n",
      "[[-0.11111111 -0.11111111  0.33333333]\n",
      " [-0.22222222  0.77777778 -0.33333333]\n",
      " [ 0.88888889 -1.11111111  0.33333333]]\n",
      "[[-0.08333333  1.16666667 -0.33333333]\n",
      " [ 0.04166667 -1.58333333  0.66666667]\n",
      " [ 0.16666667  0.66666667 -0.33333333]]\n",
      "[[-0.5462963   1.28703704 -0.52777778]\n",
      " [ 0.93981481 -1.97685185  0.76388889]\n",
      " [-0.46296296  0.87037037 -0.27777778]]\n",
      "[[-0.5462963   1.28703704 -0.52777778]\n",
      " [ 0.93981481 -1.97685185  0.76388889]\n",
      " [-0.46296296  0.87037037 -0.27777778]]\n"
     ]
    }
   ],
   "source": [
    "A=([[1,3,2],[2,3,1],[4,2,1]])\n",
    "B=([[2,4,6],[3,2,1],[7,6,2]])\n",
    "det_A=np.linalg.det(A)\n",
    "det_B=np.linalg.det(B)\n",
    "print(det_A)\n",
    "print(det_B)\n",
    "inv_A=np.linalg.inv(A)\n",
    "inv_B=np.linalg.inv(B)\n",
    "print(inv_A)\n",
    "print(inv_B)\n",
    "AB=np.dot(A,B)\n",
    "AB_INV=np.linalg.inv(AB)\n",
    "B_INV_A_INV=np.dot(inv_B,inv_A)\n",
    "print(B_INV_A_INV)\n",
    "print(AB_INV)"
   ]
  },
  {
   "cell_type": "code",
   "execution_count": 5,
   "metadata": {},
   "outputs": [
    {
     "name": "stdout",
     "output_type": "stream",
     "text": [
      "[[ 364  183]\n",
      " [1156  582]]\n",
      "[[ 364  183]\n",
      " [1156  582]]\n"
     ]
    }
   ],
   "source": [
    "A=([[1,3],[4,9]])\n",
    "B=([[4,5],[6,8]])\n",
    "C=([[6,7],[8,1]])\n",
    "A_B=np.dot(A,B)\n",
    "B_C=np.dot(B,C)\n",
    "A_BC=np.dot(A,B_C)\n",
    "AB_C=np.dot(A_B,C)\n",
    "print(A_BC)\n",
    "print(AB_C)"
   ]
  },
  {
   "cell_type": "code",
   "execution_count": 6,
   "metadata": {},
   "outputs": [
    {
     "name": "stdout",
     "output_type": "stream",
     "text": [
      "[ 7. -5.  1.]\n"
     ]
    }
   ],
   "source": [
    "E=np.matrix([[1,4,7],[9,1,9],[0,0,1]])\n",
    "eigvals=np.linalg.eigvals(E)\n",
    "print(eigvals)"
   ]
  },
  {
   "cell_type": "code",
   "execution_count": 7,
   "metadata": {},
   "outputs": [
    {
     "name": "stdout",
     "output_type": "stream",
     "text": [
      "[[1 2 3]\n",
      " [4 5 6]\n",
      " [7 8 9]]\n",
      "[[1 2 3]\n",
      " [0 5 6]\n",
      " [0 0 9]]\n",
      "[[0 2 3]\n",
      " [0 0 6]\n",
      " [0 0 0]]\n",
      "[[0 0 3]\n",
      " [0 0 0]\n",
      " [0 0 0]]\n",
      "[[0 0 0]\n",
      " [0 0 0]\n",
      " [0 0 0]]\n"
     ]
    }
   ],
   "source": [
    "a=np.array([[1,2,3],[4,5,6],[7,8,9]])\n",
    "print(a)\n",
    "tri_upper_diag=np.triu(a,k=0)\n",
    "print(tri_upper_diag)\n",
    "tri_upper_diag_no_diag=np.triu(a,k=1)\n",
    "print(tri_upper_diag_no_diag)\n",
    "tri_upper_diag_no_diag=np.triu(a,k=2)\n",
    "print(tri_upper_diag_no_diag)\n",
    "tri_upper_diag_no_diag=np.triu(a,k=3)\n",
    "print(tri_upper_diag_no_diag)"
   ]
  },
  {
   "cell_type": "code",
   "execution_count": 8,
   "metadata": {},
   "outputs": [
    {
     "name": "stdout",
     "output_type": "stream",
     "text": [
      "[ 2.  3.]\n"
     ]
    }
   ],
   "source": [
    "A=np.array([[3,1],[1,2]])\n",
    "B=np.array([9,8])\n",
    "X=np.linalg.solve(A,B)\n",
    "print(X)"
   ]
  },
  {
   "cell_type": "code",
   "execution_count": 1,
   "metadata": {},
   "outputs": [
    {
     "name": "stdout",
     "output_type": "stream",
     "text": [
      "[12, 4, 3]\n",
      "[7, 5, 8]\n"
     ]
    }
   ],
   "source": [
    "# Program to transpose a matrix using nested loop\n",
    "\n",
    "X = [[12,7],\n",
    "    [4 ,5],\n",
    "    [3 ,8]]\n",
    "\n",
    "result = [[0,0,0],\n",
    "         [0,0,0]]\n",
    "\n",
    "# iterate through rows\n",
    "for i in range(len(X)):\n",
    "   # iterate through columns\n",
    "   for j in range(len(X[0])):\n",
    "       result[j][i] = X[i][j]\n",
    "\n",
    "for r in result:\n",
    "   print(r)"
   ]
  },
  {
   "cell_type": "code",
   "execution_count": null,
   "metadata": {
    "collapsed": true
   },
   "outputs": [],
   "source": []
  }
 ],
 "metadata": {
  "kernelspec": {
   "display_name": "Python 3",
   "language": "python",
   "name": "python3"
  },
  "language_info": {
   "codemirror_mode": {
    "name": "ipython",
    "version": 3
   },
   "file_extension": ".py",
   "mimetype": "text/x-python",
   "name": "python",
   "nbconvert_exporter": "python",
   "pygments_lexer": "ipython3",
   "version": "3.6.1"
  }
 },
 "nbformat": 4,
 "nbformat_minor": 2
}
