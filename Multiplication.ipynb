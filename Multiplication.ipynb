{
 "cells": [
  {
   "cell_type": "code",
   "execution_count": 2,
   "metadata": {},
   "outputs": [
    {
     "name": "stdout",
     "output_type": "stream",
     "text": [
      "Enter a number: 5\n",
      "5*1=5\n",
      "5*2=10\n",
      "5*3=15\n",
      "5*4=20\n",
      "5*5=25\n",
      "5*6=30\n",
      "5*7=35\n",
      "5*8=40\n",
      "5*9=45\n",
      "5*10=50\n",
      "5*11=55\n",
      "5*12=60\n",
      "5*13=65\n",
      "5*14=70\n",
      "5*15=75\n"
     ]
    }
   ],
   "source": [
    "def multi(a):\n",
    "    for i in range(1,16):\n",
    "        print('{0}*{1}={2}'.format(a,i,a*i))\n",
    "        \n",
    "b = input('Enter a number: ')\n",
    "multi(int(b))"
   ]
  },
  {
   "cell_type": "code",
   "execution_count": 1,
   "metadata": {},
   "outputs": [
    {
     "name": "stdout",
     "output_type": "stream",
     "text": [
      "Enter a number: 6\n",
      "Enter a multiple: 9\n",
      "6*0=0\n",
      "6*1=6\n",
      "6*2=12\n",
      "6*3=18\n",
      "6*4=24\n",
      "6*5=30\n",
      "6*6=36\n",
      "6*7=42\n",
      "6*8=48\n",
      "6*9=54\n"
     ]
    }
   ],
   "source": [
    "def table(inp,mul):\n",
    "    for i in range(0,mul+1):\n",
    "        print('{0}*{1}={2}'.format(inp,i,inp*i))\n",
    "\n",
    "try:\n",
    "    a=int(input(\"Enter a number: \"))\n",
    "    if(a<0):\n",
    "        print(\"Please enter a positive number: \")\n",
    "    else:\n",
    "        b=int(input(\"Enter a multiple: \"))\n",
    "        if(b<0):\n",
    "            print(\"Please enter a positive number: \")\n",
    "        else:\n",
    "            table(a,b)\n",
    "\n",
    "except ValueError:\n",
    "    print('INVALID INPUT')"
   ]
  },
  {
   "cell_type": "code",
   "execution_count": null,
   "metadata": {
    "collapsed": true
   },
   "outputs": [],
   "source": []
  }
 ],
 "metadata": {
  "kernelspec": {
   "display_name": "Python 3",
   "language": "python",
   "name": "python3"
  },
  "language_info": {
   "codemirror_mode": {
    "name": "ipython",
    "version": 3
   },
   "file_extension": ".py",
   "mimetype": "text/x-python",
   "name": "python",
   "nbconvert_exporter": "python",
   "pygments_lexer": "ipython3",
   "version": "3.6.1"
  }
 },
 "nbformat": 4,
 "nbformat_minor": 2
}
