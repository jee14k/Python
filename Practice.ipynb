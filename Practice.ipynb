{
 "cells": [
  {
   "cell_type": "code",
   "execution_count": 7,
   "metadata": {},
   "outputs": [
    {
     "data": {
      "text/plain": [
       "Fraction(1, 1)"
      ]
     },
     "execution_count": 7,
     "metadata": {},
     "output_type": "execute_result"
    }
   ],
   "source": [
    "from fractions import Fraction\n",
    "Fraction(3/4)+Fraction(1/4)"
   ]
  },
  {
   "cell_type": "code",
   "execution_count": 8,
   "metadata": {},
   "outputs": [
    {
     "data": {
      "text/plain": [
       "Fraction(2, 1)"
      ]
     },
     "execution_count": 8,
     "metadata": {},
     "output_type": "execute_result"
    }
   ],
   "source": [
    "Fraction(3/4)+Fraction(1/4)+1"
   ]
  },
  {
   "cell_type": "code",
   "execution_count": 17,
   "metadata": {},
   "outputs": [
    {
     "name": "stdout",
     "output_type": "stream",
     "text": [
      "(5+9j)\n"
     ]
    },
    {
     "data": {
      "text/plain": [
       "10.295630140987"
      ]
     },
     "execution_count": 17,
     "metadata": {},
     "output_type": "execute_result"
    }
   ],
   "source": [
    "a=3+5j\n",
    "type(a)\n",
    "b=complex(2,4)\n",
    "b\n",
    "c=a+b\n",
    "print(c)\n",
    "c.real\n",
    "c.imag\n",
    "c.conjugate()\n",
    "abs(c)"
   ]
  },
  {
   "cell_type": "code",
   "execution_count": 18,
   "metadata": {},
   "outputs": [
    {
     "name": "stdout",
     "output_type": "stream",
     "text": [
      "5\n"
     ]
    }
   ],
   "source": [
    "x=input()"
   ]
  },
  {
   "cell_type": "code",
   "execution_count": 19,
   "metadata": {},
   "outputs": [
    {
     "data": {
      "text/plain": [
       "'5'"
      ]
     },
     "execution_count": 19,
     "metadata": {},
     "output_type": "execute_result"
    }
   ],
   "source": [
    "x"
   ]
  },
  {
   "cell_type": "code",
   "execution_count": 22,
   "metadata": {},
   "outputs": [
    {
     "name": "stdout",
     "output_type": "stream",
     "text": [
      "Enter a number: 3/5\n",
      "Invailid Number\n"
     ]
    }
   ],
   "source": [
    "try:\n",
    "    y=float(input('Enter a number: '))\n",
    "except ValueError:\n",
    "    print('Invailid Number')"
   ]
  },
  {
   "cell_type": "code",
   "execution_count": 1,
   "metadata": {
    "collapsed": true
   },
   "outputs": [],
   "source": [
    "def is_factor(a,b):\n",
    "    if b%a==0:\n",
    "        return TRUE;\n",
    "    else:\n",
    "        return FALSE;"
   ]
  },
  {
   "cell_type": "code",
   "execution_count": 1,
   "metadata": {
    "collapsed": true
   },
   "outputs": [],
   "source": [
    "import matplotlib.pyplot as plt\n",
    "\n",
    "def draw_g(x,y):\n",
    "    plt.plot(x,y)\n",
    "    plt.title('Gravitational force and distance')\n",
    "    plt.xlabel('Gravitational force in newtons')\n",
    "    plt.ylabel('Distance in meters')\n",
    "    \n",
    "def calc():\n",
    "    m1=0.5\n",
    "    m2=0.8\n",
    "    F=[]\n",
    "    G=6.64*(10**-11)\n",
    "    r=range(100,1001,50)\n",
    "    for i in r:    \n",
    "        force=(G*m1*m2)/i**2\n",
    "        F.append(force)\n",
    "    draw_g(r,F)\n",
    "    \n",
    "if __name__=='__main__':\n",
    "    calc()"
   ]
  },
  {
   "cell_type": "code",
   "execution_count": 3,
   "metadata": {},
   "outputs": [
    {
     "name": "stdout",
     "output_type": "stream",
     "text": [
      "Enter the number of terms for the series: 6\n",
      "Series with 6 terms: \n",
      "     2    3    4    5    6\n",
      "    x    x    x    x    x \n",
      "x + ── + ── + ── + ── + ──\n",
      "    2    3    4    5    6 \n"
     ]
    }
   ],
   "source": [
    "from sympy import Symbol, pprint, init_printing\n",
    "def series(n):\n",
    "    print('Series with {0} terms: '.format(n))\n",
    "    init_printing(order='rev-lex')\n",
    "    x=Symbol('x')\n",
    "    series=x\n",
    "    for i in range(2,n+1):\n",
    "        series=series+(x**i)/i\n",
    "    pprint(series)\n",
    "    \n",
    "if __name__=='__main__':\n",
    "    n=input('Enter the number of terms for the series: ')\n",
    "    series(int(n))"
   ]
  },
  {
   "cell_type": "code",
   "execution_count": 3,
   "metadata": {},
   "outputs": [
    {
     "data": {
      "image/png": "[encoded data removed]",
      "text/plain": [
       "<matplotlib.figure.Figure at 0x1dec5b18fd0>"
      ]
     },
     "metadata": {},
     "output_type": "display_data"
    }
   ],
   "source": [
    "from sympy import FiniteSet\n",
    "from matplotlib_venn import venn3\n",
    "import matplotlib.pyplot as plt\n",
    "def dia(sets):\n",
    "    venn3(subsets=sets)\n",
    "    plt.show()\n",
    "    \n",
    "s1=FiniteSet(3,6,7,8,9,2)\n",
    "s2=FiniteSet(1,3,4,7,8)\n",
    "s3=FiniteSet(1,3,5,6,8,9)\n",
    "dia([s1,s2,s3])"
   ]
  },
  {
   "cell_type": "code",
   "execution_count": null,
   "metadata": {
    "collapsed": true
   },
   "outputs": [],
   "source": []
  }
 ],
 "metadata": {
  "kernelspec": {
   "display_name": "Python 3",
   "language": "python",
   "name": "python3"
  },
  "language_info": {
   "codemirror_mode": {
    "name": "ipython",
    "version": 3
   },
   "file_extension": ".py",
   "mimetype": "text/x-python",
   "name": "python",
   "nbconvert_exporter": "python",
   "pygments_lexer": "ipython3",
   "version": "3.6.1"
  }
 },
 "nbformat": 4,
 "nbformat_minor": 2
}
