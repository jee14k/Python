{
 "cells": [
  {
   "cell_type": "code",
   "execution_count": 2,
   "metadata": {},
   "outputs": [
    {
     "name": "stdout",
     "output_type": "stream",
     "text": [
      "Enter the first value: 1\n",
      "Enter the second value: -1\n",
      "Enter the third value: 1\n",
      "Root1 : (0.5+0.8660254037844386j)\n",
      "Root2 : (0.49999999999999994-0.8660254037844386j)\n"
     ]
    }
   ],
   "source": [
    "def roots(a,b,c):\n",
    "    D=(b*b-4*a*c)**0.5\n",
    "    x_1=(-b + D)/(2*a)\n",
    "    x_2=(-b-D)/(2*a)\n",
    "    \n",
    "    print('Root1 : {0}'.format(x_1))\n",
    "    print('Root2 : {0}'.format(x_2))\n",
    "    \n",
    "a=input('Enter the first value: ')\n",
    "b=input('Enter the second value: ')\n",
    "c=input('Enter the third value: ')\n",
    "roots(float(a),float(b),float(c))"
   ]
  },
  {
   "cell_type": "code",
   "execution_count": 13,
   "metadata": {},
   "outputs": [
    {
     "data": {
      "text/plain": [
       "0.7757160000000001"
      ]
     },
     "execution_count": 13,
     "metadata": {},
     "output_type": "execute_result"
    }
   ],
   "source": [
    "(30.54 * 2.54)/100"
   ]
  },
  {
   "cell_type": "code",
   "execution_count": null,
   "metadata": {
    "collapsed": true
   },
   "outputs": [],
   "source": []
  },
  {
   "cell_type": "code",
   "execution_count": null,
   "metadata": {
    "collapsed": true
   },
   "outputs": [],
   "source": []
  }
 ],
 "metadata": {
  "kernelspec": {
   "display_name": "Python 3",
   "language": "python",
   "name": "python3"
  },
  "language_info": {
   "codemirror_mode": {
    "name": "ipython",
    "version": 3
   },
   "file_extension": ".py",
   "mimetype": "text/x-python",
   "name": "python",
   "nbconvert_exporter": "python",
   "pygments_lexer": "ipython3",
   "version": "3.6.1"
  }
 },
 "nbformat": 4,
 "nbformat_minor": 2
}
