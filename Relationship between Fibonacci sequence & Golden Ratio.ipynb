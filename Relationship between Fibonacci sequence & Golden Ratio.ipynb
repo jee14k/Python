{
 "cells": [
  {
   "cell_type": "code",
   "execution_count": 1,
   "metadata": {},
   "outputs": [
    {
     "data": {
      "image/png": "[encoded data removed]",
      "text/plain": [
       "<matplotlib.figure.Figure at 0x1ddaf577940>"
      ]
     },
     "metadata": {},
     "output_type": "display_data"
    }
   ],
   "source": [
    "import matplotlib.pyplot as plt\n",
    "def fibo(n):\n",
    "    if n==1:\n",
    "        return [1]\n",
    "    if n==2:\n",
    "        return [1,1]\n",
    "    \n",
    "    a=1\n",
    "    b=1\n",
    "    series=[a,b]\n",
    "    for i in range(n):\n",
    "        c=a+b\n",
    "        series.append(c)\n",
    "        a=b\n",
    "        b=c\n",
    "    return series\n",
    "\n",
    "def plot_ratio(series):\n",
    "    ratios=[]\n",
    "    for i in range(len(series)-1):\n",
    "        ratios.append(series[i+1]/series[i])\n",
    "    plt.plot(ratios)\n",
    "    plt.title('Ratio between Fibonacci numbers & Golden Ratio')\n",
    "    plt.ylabel('Ratio')\n",
    "    plt.xlabel('No.')\n",
    "    plt.show()\n",
    "    \n",
    "num=100\n",
    "series=fibo(num)\n",
    "plot_ratio(series)"
   ]
  },
  {
   "cell_type": "code",
   "execution_count": null,
   "metadata": {
    "collapsed": true
   },
   "outputs": [],
   "source": []
  }
 ],
 "metadata": {
  "kernelspec": {
   "display_name": "Python 3",
   "language": "python",
   "name": "python3"
  },
  "language_info": {
   "codemirror_mode": {
    "name": "ipython",
    "version": 3
   },
   "file_extension": ".py",
   "mimetype": "text/x-python",
   "name": "python",
   "nbconvert_exporter": "python",
   "pygments_lexer": "ipython3",
   "version": "3.6.1"
  }
 },
 "nbformat": 4,
 "nbformat_minor": 2
}
