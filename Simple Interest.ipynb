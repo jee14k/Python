{
 "cells": [
  {
   "cell_type": "code",
   "execution_count": 2,
   "metadata": {},
   "outputs": [
    {
     "name": "stdout",
     "output_type": "stream",
     "text": [
      "Enter value\n",
      "p:100\n",
      "n: 10\n",
      "r:5.0\n",
      "Simple interest value: 50.00\n",
      "Amount: 150.00\n"
     ]
    }
   ],
   "source": [
    "# Compute simple interest for the user inputs p,n,r \n",
    "#!/usr/bin/python\n",
    "\n",
    "def calculate_simple_interest(p,n,r):\n",
    "    si=0.0\n",
    "    si=float(p*n*r)/float(100);\n",
    "    return si;\n",
    "\n",
    "def calc_amount(p,si):\n",
    "    amt=p+si\n",
    "    return amt\n",
    "\n",
    "if __name__=='__main__':\n",
    "    p=float(input(\"Enter value\\np:\"));\n",
    "    n=int(input(\"n: \"));\n",
    "    r=float(input(\"r:\"));\n",
    "    simple_interest=calculate_simple_interest(p,n,r);\n",
    "    print(\"Simple interest value: %.2f\" % simple_interest);\n",
    "    amt=calc_amount(p,simple_interest)\n",
    "    print(\"Amount: %.2f\" % amt);"
   ]
  },
  {
   "cell_type": "markdown",
   "metadata": {},
   "source": [
    "### Compund interest is an interest calculated on the inital principal and also calculated on the interest of previous periods of deposit. Formulae is A=P*(1+R/100)^t\n",
    "CI=A-P\n",
    "P-Principal\n",
    "A-Tota Amount\n",
    "CI-Compound Interest "
   ]
  },
  {
   "cell_type": "code",
   "execution_count": 1,
   "metadata": {},
   "outputs": [
    {
     "name": "stdout",
     "output_type": "stream",
     "text": [
      "Enter principle amount: 100\n",
      "Enter time duration: 10\n",
      "Enter rate of interest: 12\n",
      "Total amount:-  310.5848208344212\n",
      "Compound interest:- 210.58\n"
     ]
    }
   ],
   "source": [
    "principle=float(input(\"Enter principle amount: \"))\n",
    "time=int(input(\"Enter time duration: \"))\n",
    "rate=float(input(\"Enter rate of interest: \"))\n",
    "amount=(principle * (1 + (float(rate)/100))**time)\n",
    "compound_interest=amount-principle;\n",
    "print(\"Total amount:- \",amount)\n",
    "print(\"Compound interest:- %0.2f\"%compound_interest)"
   ]
  },
  {
   "cell_type": "code",
   "execution_count": null,
   "metadata": {
    "collapsed": true
   },
   "outputs": [],
   "source": []
  }
 ],
 "metadata": {
  "kernelspec": {
   "display_name": "Python 3",
   "language": "python",
   "name": "python3"
  },
  "language_info": {
   "codemirror_mode": {
    "name": "ipython",
    "version": 3
   },
   "file_extension": ".py",
   "mimetype": "text/x-python",
   "name": "python",
   "nbconvert_exporter": "python",
   "pygments_lexer": "ipython3",
   "version": "3.6.1"
  }
 },
 "nbformat": 4,
 "nbformat_minor": 2
}
